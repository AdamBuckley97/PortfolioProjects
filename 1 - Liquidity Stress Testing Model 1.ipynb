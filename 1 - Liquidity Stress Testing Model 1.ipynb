{
 "cells": [
  {
   "cell_type": "code",
   "execution_count": 1,
   "id": "0e34dfe8",
   "metadata": {},
   "outputs": [],
   "source": [
    "import pandas as pd\n",
    "import numpy as np"
   ]
  },
  {
   "cell_type": "code",
   "execution_count": 2,
   "id": "2aa64645",
   "metadata": {},
   "outputs": [
    {
     "data": {
      "text/html": [
       "<div>\n",
       "<style scoped>\n",
       "    .dataframe tbody tr th:only-of-type {\n",
       "        vertical-align: middle;\n",
       "    }\n",
       "\n",
       "    .dataframe tbody tr th {\n",
       "        vertical-align: top;\n",
       "    }\n",
       "\n",
       "    .dataframe thead th {\n",
       "        text-align: right;\n",
       "    }\n",
       "</style>\n",
       "<table border=\"1\" class=\"dataframe\">\n",
       "  <thead>\n",
       "    <tr style=\"text-align: right;\">\n",
       "      <th></th>\n",
       "      <th>Asset1</th>\n",
       "      <th>Asset2</th>\n",
       "      <th>Asset3</th>\n",
       "    </tr>\n",
       "  </thead>\n",
       "  <tbody>\n",
       "    <tr>\n",
       "      <th>0</th>\n",
       "      <td>0.021571</td>\n",
       "      <td>0.017079</td>\n",
       "      <td>-0.023390</td>\n",
       "    </tr>\n",
       "    <tr>\n",
       "      <th>1</th>\n",
       "      <td>0.042741</td>\n",
       "      <td>0.007914</td>\n",
       "      <td>-0.009154</td>\n",
       "    </tr>\n",
       "    <tr>\n",
       "      <th>2</th>\n",
       "      <td>0.003161</td>\n",
       "      <td>-0.019893</td>\n",
       "      <td>0.001803</td>\n",
       "    </tr>\n",
       "    <tr>\n",
       "      <th>3</th>\n",
       "      <td>0.014965</td>\n",
       "      <td>-0.011552</td>\n",
       "      <td>-0.004347</td>\n",
       "    </tr>\n",
       "    <tr>\n",
       "      <th>4</th>\n",
       "      <td>0.032694</td>\n",
       "      <td>0.011299</td>\n",
       "      <td>0.016671</td>\n",
       "    </tr>\n",
       "    <tr>\n",
       "      <th>...</th>\n",
       "      <td>...</td>\n",
       "      <td>...</td>\n",
       "      <td>...</td>\n",
       "    </tr>\n",
       "    <tr>\n",
       "      <th>995</th>\n",
       "      <td>-0.006711</td>\n",
       "      <td>-0.007081</td>\n",
       "      <td>0.005274</td>\n",
       "    </tr>\n",
       "    <tr>\n",
       "      <th>996</th>\n",
       "      <td>0.010110</td>\n",
       "      <td>0.001325</td>\n",
       "      <td>0.029057</td>\n",
       "    </tr>\n",
       "    <tr>\n",
       "      <th>997</th>\n",
       "      <td>-0.009336</td>\n",
       "      <td>-0.019994</td>\n",
       "      <td>0.010386</td>\n",
       "    </tr>\n",
       "    <tr>\n",
       "      <th>998</th>\n",
       "      <td>0.009379</td>\n",
       "      <td>-0.008191</td>\n",
       "      <td>-0.018949</td>\n",
       "    </tr>\n",
       "    <tr>\n",
       "      <th>999</th>\n",
       "      <td>-0.052021</td>\n",
       "      <td>-0.025179</td>\n",
       "      <td>0.038719</td>\n",
       "    </tr>\n",
       "  </tbody>\n",
       "</table>\n",
       "<p>1000 rows × 3 columns</p>\n",
       "</div>"
      ],
      "text/plain": [
       "       Asset1    Asset2    Asset3\n",
       "0    0.021571  0.017079 -0.023390\n",
       "1    0.042741  0.007914 -0.009154\n",
       "2    0.003161 -0.019893  0.001803\n",
       "3    0.014965 -0.011552 -0.004347\n",
       "4    0.032694  0.011299  0.016671\n",
       "..        ...       ...       ...\n",
       "995 -0.006711 -0.007081  0.005274\n",
       "996  0.010110  0.001325  0.029057\n",
       "997 -0.009336 -0.019994  0.010386\n",
       "998  0.009379 -0.008191 -0.018949\n",
       "999 -0.052021 -0.025179  0.038719\n",
       "\n",
       "[1000 rows x 3 columns]"
      ]
     },
     "execution_count": 2,
     "metadata": {},
     "output_type": "execute_result"
    }
   ],
   "source": [
    "# Sample historical returns data\n",
    "# Example: historical daily returns for three assets\n",
    "data = {\n",
    "    'Asset1': np.random.normal(0.001, 0.02, 1000),\n",
    "    'Asset2': np.random.normal(0.0005, 0.015, 1000),\n",
    "    'Asset3': np.random.normal(0.0008, 0.025, 1000)\n",
    "}\n",
    "df = pd.DataFrame(data)\n",
    "df"
   ]
  },
  {
   "cell_type": "code",
   "execution_count": 3,
   "id": "e1f79421",
   "metadata": {},
   "outputs": [
    {
     "data": {
      "text/plain": [
       "array([0.5, 0.3, 0.2])"
      ]
     },
     "execution_count": 3,
     "metadata": {},
     "output_type": "execute_result"
    }
   ],
   "source": [
    "# Define portfolio weights (example weights - should sum to 1)\n",
    "weights = np.array([0.5, 0.3, 0.2])\n",
    "weights"
   ]
  },
  {
   "cell_type": "code",
   "execution_count": 5,
   "id": "7bdc1c11",
   "metadata": {},
   "outputs": [],
   "source": [
    "# Portfolio value and simulation\n",
    "initial_portfolio_value = 1000000  # Initial portfolio value in USD"
   ]
  },
  {
   "cell_type": "code",
   "execution_count": 9,
   "id": "b6866233",
   "metadata": {},
   "outputs": [
    {
     "name": "stdout",
     "output_type": "stream",
     "text": [
      "[1011231.41732734 1021913.82984601  995973.45037149 1003147.56268282\n",
      " 1023070.72863593]\n"
     ]
    }
   ],
   "source": [
    "# Calculate portfolio values based on historical returns\n",
    "portfolio_values = initial_portfolio_value * (1 + np.dot(df, weights))\n",
    "print(portfolio_values[:5])"
   ]
  },
  {
   "cell_type": "code",
   "execution_count": 10,
   "id": "7e324d41",
   "metadata": {},
   "outputs": [
    {
     "data": {
      "text/plain": [
       "100000.0"
      ]
     },
     "execution_count": 10,
     "metadata": {},
     "output_type": "execute_result"
    }
   ],
   "source": [
    "# Assuming a liquidity threshold (e.g., 10% of the initial portfolio value)\n",
    "liquidity_threshold = 0.1 * initial_portfolio_value\n",
    "liquidity_threshold"
   ]
  },
  {
   "cell_type": "code",
   "execution_count": 11,
   "id": "df5567b4",
   "metadata": {},
   "outputs": [
    {
     "data": {
      "text/plain": [
       "965557.2060220052"
      ]
     },
     "execution_count": 11,
     "metadata": {},
     "output_type": "execute_result"
    }
   ],
   "source": [
    "# Minimum portfolio value during the historical period\n",
    "min_portfolio_value = np.min(portfolio_values)\n",
    "min_portfolio_value"
   ]
  },
  {
   "cell_type": "code",
   "execution_count": 12,
   "id": "d1221aec",
   "metadata": {},
   "outputs": [
    {
     "name": "stdout",
     "output_type": "stream",
     "text": [
      "Portfolio maintained liquidity above the threshold during the historical period.\n"
     ]
    }
   ],
   "source": [
    "# Check if the portfolio value drops below the liquidity threshold\n",
    "if min_portfolio_value < liquidity_threshold:\n",
    "    print(\"Portfolio faced liquidity stress during the historical period.\")\n",
    "    print(f\"Minimum Portfolio Value: {min_portfolio_value}\")\n",
    "else:\n",
    "    print(\"Portfolio maintained liquidity above the threshold during the historical period.\")\n"
   ]
  },
  {
   "cell_type": "code",
   "execution_count": null,
   "id": "173df9f6",
   "metadata": {},
   "outputs": [],
   "source": []
  }
 ],
 "metadata": {
  "kernelspec": {
   "display_name": "Python 3 (ipykernel)",
   "language": "python",
   "name": "python3"
  },
  "language_info": {
   "codemirror_mode": {
    "name": "ipython",
    "version": 3
   },
   "file_extension": ".py",
   "mimetype": "text/x-python",
   "name": "python",
   "nbconvert_exporter": "python",
   "pygments_lexer": "ipython3",
   "version": "3.11.4"
  }
 },
 "nbformat": 4,
 "nbformat_minor": 5
}

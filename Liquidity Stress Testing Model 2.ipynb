{
 "cells": [
  {
   "cell_type": "code",
   "execution_count": 1,
   "id": "2a23e1ad",
   "metadata": {},
   "outputs": [],
   "source": [
    "import numpy as np\n",
    "import pandas as pd"
   ]
  },
  {
   "cell_type": "code",
   "execution_count": 2,
   "id": "52d37a10",
   "metadata": {},
   "outputs": [
    {
     "data": {
      "text/html": [
       "<div>\n",
       "<style scoped>\n",
       "    .dataframe tbody tr th:only-of-type {\n",
       "        vertical-align: middle;\n",
       "    }\n",
       "\n",
       "    .dataframe tbody tr th {\n",
       "        vertical-align: top;\n",
       "    }\n",
       "\n",
       "    .dataframe thead th {\n",
       "        text-align: right;\n",
       "    }\n",
       "</style>\n",
       "<table border=\"1\" class=\"dataframe\">\n",
       "  <thead>\n",
       "    <tr style=\"text-align: right;\">\n",
       "      <th></th>\n",
       "      <th>Asset1</th>\n",
       "      <th>Asset2</th>\n",
       "      <th>Asset3</th>\n",
       "    </tr>\n",
       "  </thead>\n",
       "  <tbody>\n",
       "    <tr>\n",
       "      <th>0</th>\n",
       "      <td>0.010934</td>\n",
       "      <td>0.021490</td>\n",
       "      <td>-0.016079</td>\n",
       "    </tr>\n",
       "    <tr>\n",
       "      <th>1</th>\n",
       "      <td>-0.001765</td>\n",
       "      <td>0.014370</td>\n",
       "      <td>-0.002813</td>\n",
       "    </tr>\n",
       "    <tr>\n",
       "      <th>2</th>\n",
       "      <td>0.013954</td>\n",
       "      <td>0.001394</td>\n",
       "      <td>-0.019010</td>\n",
       "    </tr>\n",
       "    <tr>\n",
       "      <th>3</th>\n",
       "      <td>0.031461</td>\n",
       "      <td>-0.009204</td>\n",
       "      <td>-0.006899</td>\n",
       "    </tr>\n",
       "    <tr>\n",
       "      <th>4</th>\n",
       "      <td>-0.003683</td>\n",
       "      <td>0.010973</td>\n",
       "      <td>-0.046540</td>\n",
       "    </tr>\n",
       "    <tr>\n",
       "      <th>...</th>\n",
       "      <td>...</td>\n",
       "      <td>...</td>\n",
       "      <td>...</td>\n",
       "    </tr>\n",
       "    <tr>\n",
       "      <th>995</th>\n",
       "      <td>-0.004622</td>\n",
       "      <td>0.016552</td>\n",
       "      <td>0.002737</td>\n",
       "    </tr>\n",
       "    <tr>\n",
       "      <th>996</th>\n",
       "      <td>0.036954</td>\n",
       "      <td>0.000102</td>\n",
       "      <td>0.007244</td>\n",
       "    </tr>\n",
       "    <tr>\n",
       "      <th>997</th>\n",
       "      <td>0.013817</td>\n",
       "      <td>-0.012728</td>\n",
       "      <td>-0.030244</td>\n",
       "    </tr>\n",
       "    <tr>\n",
       "      <th>998</th>\n",
       "      <td>-0.010424</td>\n",
       "      <td>-0.001946</td>\n",
       "      <td>0.009154</td>\n",
       "    </tr>\n",
       "    <tr>\n",
       "      <th>999</th>\n",
       "      <td>0.012452</td>\n",
       "      <td>-0.010674</td>\n",
       "      <td>-0.003081</td>\n",
       "    </tr>\n",
       "  </tbody>\n",
       "</table>\n",
       "<p>1000 rows × 3 columns</p>\n",
       "</div>"
      ],
      "text/plain": [
       "       Asset1    Asset2    Asset3\n",
       "0    0.010934  0.021490 -0.016079\n",
       "1   -0.001765  0.014370 -0.002813\n",
       "2    0.013954  0.001394 -0.019010\n",
       "3    0.031461 -0.009204 -0.006899\n",
       "4   -0.003683  0.010973 -0.046540\n",
       "..        ...       ...       ...\n",
       "995 -0.004622  0.016552  0.002737\n",
       "996  0.036954  0.000102  0.007244\n",
       "997  0.013817 -0.012728 -0.030244\n",
       "998 -0.010424 -0.001946  0.009154\n",
       "999  0.012452 -0.010674 -0.003081\n",
       "\n",
       "[1000 rows x 3 columns]"
      ]
     },
     "execution_count": 2,
     "metadata": {},
     "output_type": "execute_result"
    }
   ],
   "source": [
    "# Sample data - Replace this with your actual data\n",
    "# Example: historical daily returns for three assets\n",
    "np.random.seed(42)\n",
    "data = {\n",
    "    'Asset1': np.random.normal(0.001, 0.02, 1000),\n",
    "    'Asset2': np.random.normal(0.0005, 0.015, 1000),\n",
    "    'Asset3': np.random.normal(0.0008, 0.025, 1000)\n",
    "}\n",
    "df = pd.DataFrame(data)\n",
    "df"
   ]
  },
  {
   "cell_type": "code",
   "execution_count": 3,
   "id": "a64a2838",
   "metadata": {},
   "outputs": [
    {
     "data": {
      "text/plain": [
       "array([0.4, 0.3, 0.3])"
      ]
     },
     "execution_count": 3,
     "metadata": {},
     "output_type": "execute_result"
    }
   ],
   "source": [
    "# Define portfolio weights (example weights - should sum to 1)\n",
    "weights = np.array([0.5, 0.3, 0.2])\n",
    "weights"
   ]
  },
  {
   "cell_type": "code",
   "execution_count": 5,
   "id": "089478c0",
   "metadata": {},
   "outputs": [],
   "source": [
    "# Parameters\n",
    "initial_portfolio_value = 1000000  # Initial portfolio value\n",
    "num_simulations = 1000  # Number of Monte Carlo simulations"
   ]
  },
  {
   "cell_type": "code",
   "execution_count": 8,
   "id": "99ab23d9",
   "metadata": {},
   "outputs": [
    {
     "data": {
      "text/plain": [
       "array([[ 1.61450546e+06,  2.68955132e+06,  4.03433911e+06, ...,\n",
       "         8.09196639e-67,  1.54559284e-66,  1.35612805e-66],\n",
       "       [ 5.47643780e+05, -7.92793872e+04, -2.74680033e+04, ...,\n",
       "        -6.04963440e-90,  2.22698631e-90,  5.88821232e-90],\n",
       "       [-9.51093054e+05, -1.13244651e+06,  5.68445896e+05, ...,\n",
       "        -1.95244316e-75, -2.77256539e-75, -1.66093735e-75],\n",
       "       ...,\n",
       "       [ 2.07071938e+06,  1.04788272e+06,  1.18364315e+06, ...,\n",
       "         1.01474272e-94,  9.96285102e-96,  1.17257938e-95],\n",
       "       [-4.27626787e+05, -9.04325486e+05, -1.65383633e+06, ...,\n",
       "         2.53826087e-90,  3.85923741e-90,  5.39905572e-90],\n",
       "       [ 1.31526920e+06,  8.38923147e+05,  2.40726203e+06, ...,\n",
       "         5.22786594e-85, -5.98897624e-86,  1.97414838e-87]])"
      ]
     },
     "execution_count": 8,
     "metadata": {},
     "output_type": "execute_result"
    }
   ],
   "source": [
    "# Monte Carlo simulation to assess potential portfolio values under stress\n",
    "simulated_portfolios = []\n",
    "for _ in range(num_simulations):\n",
    "    random_returns = np.dot(df.values, weights) + np.random.normal(0, 1, len(df))\n",
    "    simulated_portfolio_values = initial_portfolio_value * np.cumprod(1 + random_returns)\n",
    "    simulated_portfolios.append(simulated_portfolio_values)\n",
    "\n",
    "simulated_portfolios = np.array(simulated_portfolios)\n",
    "simulated_portfolios"
   ]
  },
  {
   "cell_type": "code",
   "execution_count": 9,
   "id": "c95ae8cf",
   "metadata": {},
   "outputs": [
    {
     "data": {
      "text/plain": [
       "100000.0"
      ]
     },
     "execution_count": 9,
     "metadata": {},
     "output_type": "execute_result"
    }
   ],
   "source": [
    "# Assessing portfolio liquidity under stress\n",
    "liquidity_threshold = 0.1 * initial_portfolio_value  # 10% liquidity threshold\n",
    "liquidity_threshold"
   ]
  },
  {
   "cell_type": "code",
   "execution_count": 10,
   "id": "407b925c",
   "metadata": {},
   "outputs": [
    {
     "data": {
      "text/plain": [
       "1000"
      ]
     },
     "execution_count": 10,
     "metadata": {},
     "output_type": "execute_result"
    }
   ],
   "source": [
    "# Calculate the number of simulations where portfolio value falls below the liquidity threshold\n",
    "below_threshold_count = np.sum(np.min(simulated_portfolios, axis=1) < liquidity_threshold)\n",
    "below_threshold_count"
   ]
  },
  {
   "cell_type": "code",
   "execution_count": 11,
   "id": "d4bc63d3",
   "metadata": {},
   "outputs": [
    {
     "data": {
      "text/plain": [
       "1.0"
      ]
     },
     "execution_count": 11,
     "metadata": {},
     "output_type": "execute_result"
    }
   ],
   "source": [
    "# Calculate the probability of portfolio facing liquidity stress\n",
    "probability_of_stress = below_threshold_count / num_simulations\n",
    "probability_of_stress"
   ]
  },
  {
   "cell_type": "code",
   "execution_count": 12,
   "id": "17738753",
   "metadata": {},
   "outputs": [
    {
     "name": "stdout",
     "output_type": "stream",
     "text": [
      "Probability of the portfolio facing liquidity stress: 100.00%\n"
     ]
    }
   ],
   "source": [
    "print(f\"Probability of the portfolio facing liquidity stress: {probability_of_stress * 100:.2f}%\")"
   ]
  }
 ],
 "metadata": {
  "kernelspec": {
   "display_name": "Python 3 (ipykernel)",
   "language": "python",
   "name": "python3"
  },
  "language_info": {
   "codemirror_mode": {
    "name": "ipython",
    "version": 3
   },
   "file_extension": ".py",
   "mimetype": "text/x-python",
   "name": "python",
   "nbconvert_exporter": "python",
   "pygments_lexer": "ipython3",
   "version": "3.11.4"
  }
 },
 "nbformat": 4,
 "nbformat_minor": 5
}
